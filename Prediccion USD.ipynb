{
 "cells": [
  {
   "cell_type": "markdown",
   "id": "17484eef",
   "metadata": {},
   "source": [
    "# Prediccion del Dolar en CLP"
   ]
  },
  {
   "cell_type": "markdown",
   "id": "ad40140c",
   "metadata": {},
   "source": [
    "Integrantes: Antonio Aguila,Benjamin Lu, Vicente Torres, Catalina Moreno"
   ]
  },
  {
   "cell_type": "code",
   "execution_count": null,
   "id": "a1d246fc",
   "metadata": {},
   "outputs": [],
   "source": [
    "#Importamos Librerias\n",
    "import pandas as pd\n",
    "import matplotlib\n",
    "import matplotlib.pyplot as plt\n",
    "import numpy as np\n",
    "from sklearn import linear_model"
   ]
  },
  {
   "cell_type": "code",
   "execution_count": 10,
   "id": "cf6b5258",
   "metadata": {},
   "outputs": [
    {
     "data": {
      "text/html": [
       "<div>\n",
       "<style scoped>\n",
       "    .dataframe tbody tr th:only-of-type {\n",
       "        vertical-align: middle;\n",
       "    }\n",
       "\n",
       "    .dataframe tbody tr th {\n",
       "        vertical-align: top;\n",
       "    }\n",
       "\n",
       "    .dataframe thead th {\n",
       "        text-align: right;\n",
       "    }\n",
       "</style>\n",
       "<table border=\"1\" class=\"dataframe\">\n",
       "  <thead>\n",
       "    <tr style=\"text-align: right;\">\n",
       "      <th></th>\n",
       "      <th>Fecha</th>\n",
       "      <th>Ultimo Valor</th>\n",
       "      <th>Maximo Valor</th>\n",
       "      <th>Minimo Valor</th>\n",
       "    </tr>\n",
       "  </thead>\n",
       "  <tbody>\n",
       "    <tr>\n",
       "      <th>0</th>\n",
       "      <td>23.08.2022</td>\n",
       "      <td>915.51</td>\n",
       "      <td>941.36</td>\n",
       "      <td>913.32</td>\n",
       "    </tr>\n",
       "    <tr>\n",
       "      <th>1</th>\n",
       "      <td>22.08.2022</td>\n",
       "      <td>937.55</td>\n",
       "      <td>955.22</td>\n",
       "      <td>936.14</td>\n",
       "    </tr>\n",
       "    <tr>\n",
       "      <th>2</th>\n",
       "      <td>19.08.2022</td>\n",
       "      <td>944.05</td>\n",
       "      <td>951.35</td>\n",
       "      <td>928.34</td>\n",
       "    </tr>\n",
       "    <tr>\n",
       "      <th>3</th>\n",
       "      <td>18.08.2022</td>\n",
       "      <td>928.40</td>\n",
       "      <td>930.38</td>\n",
       "      <td>892.05</td>\n",
       "    </tr>\n",
       "    <tr>\n",
       "      <th>4</th>\n",
       "      <td>17.08.2022</td>\n",
       "      <td>897.15</td>\n",
       "      <td>907.47</td>\n",
       "      <td>881.50</td>\n",
       "    </tr>\n",
       "    <tr>\n",
       "      <th>5</th>\n",
       "      <td>16.08.2022</td>\n",
       "      <td>881.05</td>\n",
       "      <td>886.28</td>\n",
       "      <td>875.76</td>\n",
       "    </tr>\n",
       "    <tr>\n",
       "      <th>6</th>\n",
       "      <td>15.08.2022</td>\n",
       "      <td>880.56</td>\n",
       "      <td>881.24</td>\n",
       "      <td>875.11</td>\n",
       "    </tr>\n",
       "    <tr>\n",
       "      <th>7</th>\n",
       "      <td>12.08.2022</td>\n",
       "      <td>874.93</td>\n",
       "      <td>887.57</td>\n",
       "      <td>874.85</td>\n",
       "    </tr>\n",
       "    <tr>\n",
       "      <th>8</th>\n",
       "      <td>11.08.2022</td>\n",
       "      <td>883.90</td>\n",
       "      <td>889.00</td>\n",
       "      <td>878.89</td>\n",
       "    </tr>\n",
       "    <tr>\n",
       "      <th>9</th>\n",
       "      <td>10.08.2022</td>\n",
       "      <td>886.20</td>\n",
       "      <td>905.82</td>\n",
       "      <td>884.16</td>\n",
       "    </tr>\n",
       "    <tr>\n",
       "      <th>10</th>\n",
       "      <td>09.08.2022</td>\n",
       "      <td>902.90</td>\n",
       "      <td>906.50</td>\n",
       "      <td>894.50</td>\n",
       "    </tr>\n",
       "    <tr>\n",
       "      <th>11</th>\n",
       "      <td>08.08.2022</td>\n",
       "      <td>905.45</td>\n",
       "      <td>918.14</td>\n",
       "      <td>900.80</td>\n",
       "    </tr>\n",
       "    <tr>\n",
       "      <th>12</th>\n",
       "      <td>05.08.2022</td>\n",
       "      <td>917.69</td>\n",
       "      <td>921.65</td>\n",
       "      <td>897.60</td>\n",
       "    </tr>\n",
       "    <tr>\n",
       "      <th>13</th>\n",
       "      <td>04.08.2022</td>\n",
       "      <td>901.95</td>\n",
       "      <td>913.13</td>\n",
       "      <td>894.78</td>\n",
       "    </tr>\n",
       "    <tr>\n",
       "      <th>14</th>\n",
       "      <td>03.08.2022</td>\n",
       "      <td>911.30</td>\n",
       "      <td>914.39</td>\n",
       "      <td>897.82</td>\n",
       "    </tr>\n",
       "    <tr>\n",
       "      <th>15</th>\n",
       "      <td>02.08.2022</td>\n",
       "      <td>909.00</td>\n",
       "      <td>911.25</td>\n",
       "      <td>887.45</td>\n",
       "    </tr>\n",
       "    <tr>\n",
       "      <th>16</th>\n",
       "      <td>01.08.2022</td>\n",
       "      <td>891.25</td>\n",
       "      <td>901.78</td>\n",
       "      <td>884.70</td>\n",
       "    </tr>\n",
       "    <tr>\n",
       "      <th>17</th>\n",
       "      <td>29.07.2022</td>\n",
       "      <td>899.50</td>\n",
       "      <td>911.80</td>\n",
       "      <td>896.38</td>\n",
       "    </tr>\n",
       "    <tr>\n",
       "      <th>18</th>\n",
       "      <td>28.07.2022</td>\n",
       "      <td>906.20</td>\n",
       "      <td>919.69</td>\n",
       "      <td>904.00</td>\n",
       "    </tr>\n",
       "    <tr>\n",
       "      <th>19</th>\n",
       "      <td>27.07.2022</td>\n",
       "      <td>906.95</td>\n",
       "      <td>926.07</td>\n",
       "      <td>908.83</td>\n",
       "    </tr>\n",
       "    <tr>\n",
       "      <th>20</th>\n",
       "      <td>26.07.2022</td>\n",
       "      <td>924.30</td>\n",
       "      <td>937.74</td>\n",
       "      <td>917.20</td>\n",
       "    </tr>\n",
       "    <tr>\n",
       "      <th>21</th>\n",
       "      <td>25.07.2022</td>\n",
       "      <td>936.90</td>\n",
       "      <td>954.16</td>\n",
       "      <td>932.00</td>\n",
       "    </tr>\n",
       "  </tbody>\n",
       "</table>\n",
       "</div>"
      ],
      "text/plain": [
       "         Fecha  Ultimo Valor  Maximo Valor  Minimo Valor\n",
       "0   23.08.2022        915.51        941.36        913.32\n",
       "1   22.08.2022        937.55        955.22        936.14\n",
       "2   19.08.2022        944.05        951.35        928.34\n",
       "3   18.08.2022        928.40        930.38        892.05\n",
       "4   17.08.2022        897.15        907.47        881.50\n",
       "5   16.08.2022        881.05        886.28        875.76\n",
       "6   15.08.2022        880.56        881.24        875.11\n",
       "7   12.08.2022        874.93        887.57        874.85\n",
       "8   11.08.2022        883.90        889.00        878.89\n",
       "9   10.08.2022        886.20        905.82        884.16\n",
       "10  09.08.2022        902.90        906.50        894.50\n",
       "11  08.08.2022        905.45        918.14        900.80\n",
       "12  05.08.2022        917.69        921.65        897.60\n",
       "13  04.08.2022        901.95        913.13        894.78\n",
       "14  03.08.2022        911.30        914.39        897.82\n",
       "15  02.08.2022        909.00        911.25        887.45\n",
       "16  01.08.2022        891.25        901.78        884.70\n",
       "17  29.07.2022        899.50        911.80        896.38\n",
       "18  28.07.2022        906.20        919.69        904.00\n",
       "19  27.07.2022        906.95        926.07        908.83\n",
       "20  26.07.2022        924.30        937.74        917.20\n",
       "21  25.07.2022        936.90        954.16        932.00"
      ]
     },
     "execution_count": 10,
     "metadata": {},
     "output_type": "execute_result"
    }
   ],
   "source": [
    "#Dataset de la Varianza del dolar\n",
    "dataset = pd.read_excel(\"Libro1.xlsx\")\n",
    "dataset.columns=[\"Fecha\",\"Ultimo Valor\",\"Maximo Valor\",\"Minimo Valor\"]\n",
    "dataset"
   ]
  },
  {
   "cell_type": "code",
   "execution_count": 11,
   "id": "5d2c5f6b",
   "metadata": {},
   "outputs": [],
   "source": [
    "#DataFrame\n",
    "df=pd.DataFrame(data=dataset)"
   ]
  },
  {
   "cell_type": "code",
   "execution_count": 12,
   "id": "830d0755",
   "metadata": {},
   "outputs": [
    {
     "data": {
      "image/png": "[encoded data removed]",
      "text/plain": [
       "<Figure size 432x288 with 1 Axes>"
      ]
     },
     "metadata": {
      "needs_background": "light"
     },
     "output_type": "display_data"
    }
   ],
   "source": [
    "#Graficar datos con cuadricula en el eje \"y\"\n",
    "df.plot().grid(axis = 'y')"
   ]
  },
  {
   "cell_type": "markdown",
   "id": "7ba92db4",
   "metadata": {},
   "source": [
    "# Prediccion "
   ]
  },
  {
   "cell_type": "code",
   "execution_count": 13,
   "id": "1fd78bad",
   "metadata": {},
   "outputs": [],
   "source": [
    "#Definimos Las variables dependiente e independientes\n",
    "X = df[[\"Maximo Valor\",\"Minimo Valor\"]]\n",
    "y = df[\"Ultimo Valor\"]"
   ]
  },
  {
   "cell_type": "code",
   "execution_count": 14,
   "id": "7230a29d",
   "metadata": {},
   "outputs": [
    {
     "data": {
      "text/plain": [
       "LinearRegression()"
      ]
     },
     "execution_count": 14,
     "metadata": {},
     "output_type": "execute_result"
    }
   ],
   "source": [
    "#Creamos la Regresion\n",
    "pd_pred = linear_model.LinearRegression()\n",
    "pd_pred.fit(X, y)"
   ]
  },
  {
   "cell_type": "code",
   "execution_count": 16,
   "id": "2bddd037",
   "metadata": {},
   "outputs": [
    {
     "name": "stdout",
     "output_type": "stream",
     "text": [
      "[575.5764635]\n"
     ]
    },
    {
     "name": "stderr",
     "output_type": "stream",
     "text": [
      "C:\\Users\\Estudiante\\anaconda3\\lib\\site-packages\\sklearn\\base.py:450: UserWarning: X does not have valid feature names, but LinearRegression was fitted with feature names\n",
      "  warnings.warn(\n"
     ]
    }
   ],
   "source": [
    "#Prediccion a traves de Dataset y Valores de prediccion\n",
    "prediccion = pd_pred.predict([[500,400]]) #Establecer los valores de Prediccion\n",
    "print(prediccion)"
   ]
  },
  {
   "cell_type": "code",
   "execution_count": null,
   "id": "070c9321",
   "metadata": {},
   "outputs": [],
   "source": []
  }
 ],
 "metadata": {
  "kernelspec": {
   "display_name": "Python 3 (ipykernel)",
   "language": "python",
   "name": "python3"
  },
  "language_info": {
   "codemirror_mode": {
    "name": "ipython",
    "version": 3
   },
   "file_extension": ".py",
   "mimetype": "text/x-python",
   "name": "python",
   "nbconvert_exporter": "python",
   "pygments_lexer": "ipython3",
   "version": "3.9.12"
  }
 },
 "nbformat": 4,
 "nbformat_minor": 5
}
